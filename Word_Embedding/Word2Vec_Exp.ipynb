{
 "cells": [
  {
   "cell_type": "code",
   "execution_count": 1,
   "id": "initial_id",
   "metadata": {
    "collapsed": true,
    "ExecuteTime": {
     "end_time": "2024-09-22T18:55:08.918954Z",
     "start_time": "2024-09-22T18:55:07.874153Z"
    }
   },
   "outputs": [],
   "source": [
    "from gensim.models import Word2Vec\n",
    "from nltk.tokenize import word_tokenize,sent_tokenize"
   ]
  },
  {
   "cell_type": "code",
   "execution_count": 2,
   "outputs": [],
   "source": [
    "corpus = \"The cat loved to explore the backyard every morning, chasing after butterflies and rolling in the soft grass. Meanwhile, the dog would lazily stretch out on the porch, basking in the sunlight, watching the cat with curious eyes. One day, the cat spotted a squirrel and darted across the yard, causing the dog to leap up and give chase as well. Despite their playful rivalry, when evening came, the cat curled up next to the dog on the couch, and they both fell asleep peacefully.\""
   ],
   "metadata": {
    "collapsed": false,
    "ExecuteTime": {
     "end_time": "2024-09-22T18:55:08.923399Z",
     "start_time": "2024-09-22T18:55:08.919471Z"
    }
   },
   "id": "8c198a6fb0bf2f10"
  },
  {
   "cell_type": "code",
   "execution_count": 3,
   "outputs": [],
   "source": [
    "corpus_sent_tokenized = sent_tokenize(corpus.lower())"
   ],
   "metadata": {
    "collapsed": false,
    "ExecuteTime": {
     "end_time": "2024-09-22T18:55:08.927894Z",
     "start_time": "2024-09-22T18:55:08.921746Z"
    }
   },
   "id": "926e2c1ef1b1cedc"
  },
  {
   "cell_type": "code",
   "execution_count": 4,
   "outputs": [
    {
     "data": {
      "text/plain": "['the cat loved to explore the backyard every morning, chasing after butterflies and rolling in the soft grass.',\n 'meanwhile, the dog would lazily stretch out on the porch, basking in the sunlight, watching the cat with curious eyes.',\n 'one day, the cat spotted a squirrel and darted across the yard, causing the dog to leap up and give chase as well.',\n 'despite their playful rivalry, when evening came, the cat curled up next to the dog on the couch, and they both fell asleep peacefully.']"
     },
     "execution_count": 4,
     "metadata": {},
     "output_type": "execute_result"
    }
   ],
   "source": [
    "corpus_sent_tokenized"
   ],
   "metadata": {
    "collapsed": false,
    "ExecuteTime": {
     "end_time": "2024-09-22T18:55:08.931744Z",
     "start_time": "2024-09-22T18:55:08.929306Z"
    }
   },
   "id": "616bdb4c9e2b5359"
  },
  {
   "cell_type": "code",
   "execution_count": 5,
   "outputs": [],
   "source": [
    "corpus_word_tokenized = [word_tokenize(sent) for sent in corpus_sent_tokenized] "
   ],
   "metadata": {
    "collapsed": false,
    "ExecuteTime": {
     "end_time": "2024-09-22T18:55:08.935207Z",
     "start_time": "2024-09-22T18:55:08.932889Z"
    }
   },
   "id": "648714dafa0124a"
  },
  {
   "cell_type": "code",
   "execution_count": 6,
   "outputs": [
    {
     "data": {
      "text/plain": "[['the',\n  'cat',\n  'loved',\n  'to',\n  'explore',\n  'the',\n  'backyard',\n  'every',\n  'morning',\n  ',',\n  'chasing',\n  'after',\n  'butterflies',\n  'and',\n  'rolling',\n  'in',\n  'the',\n  'soft',\n  'grass',\n  '.'],\n ['meanwhile',\n  ',',\n  'the',\n  'dog',\n  'would',\n  'lazily',\n  'stretch',\n  'out',\n  'on',\n  'the',\n  'porch',\n  ',',\n  'basking',\n  'in',\n  'the',\n  'sunlight',\n  ',',\n  'watching',\n  'the',\n  'cat',\n  'with',\n  'curious',\n  'eyes',\n  '.'],\n ['one',\n  'day',\n  ',',\n  'the',\n  'cat',\n  'spotted',\n  'a',\n  'squirrel',\n  'and',\n  'darted',\n  'across',\n  'the',\n  'yard',\n  ',',\n  'causing',\n  'the',\n  'dog',\n  'to',\n  'leap',\n  'up',\n  'and',\n  'give',\n  'chase',\n  'as',\n  'well',\n  '.'],\n ['despite',\n  'their',\n  'playful',\n  'rivalry',\n  ',',\n  'when',\n  'evening',\n  'came',\n  ',',\n  'the',\n  'cat',\n  'curled',\n  'up',\n  'next',\n  'to',\n  'the',\n  'dog',\n  'on',\n  'the',\n  'couch',\n  ',',\n  'and',\n  'they',\n  'both',\n  'fell',\n  'asleep',\n  'peacefully',\n  '.']]"
     },
     "execution_count": 6,
     "metadata": {},
     "output_type": "execute_result"
    }
   ],
   "source": [
    "corpus_word_tokenized"
   ],
   "metadata": {
    "collapsed": false,
    "ExecuteTime": {
     "end_time": "2024-09-22T18:55:08.938857Z",
     "start_time": "2024-09-22T18:55:08.935802Z"
    }
   },
   "id": "bb88dac4c965a010"
  },
  {
   "cell_type": "code",
   "execution_count": 7,
   "outputs": [],
   "source": [
    "model = Word2Vec(corpus_word_tokenized,vector_size = 100,window = 5,min_count=1,sg=1)"
   ],
   "metadata": {
    "collapsed": false,
    "ExecuteTime": {
     "end_time": "2024-09-22T18:55:08.959172Z",
     "start_time": "2024-09-22T18:55:08.938458Z"
    }
   },
   "id": "c0afb2b7445e4bbf"
  },
  {
   "cell_type": "code",
   "execution_count": 8,
   "outputs": [
    {
     "name": "stdout",
     "output_type": "stream",
     "text": [
      "[ 1.1137250e-04  3.0972573e-03 -6.8309973e-03 -1.4241920e-03\n",
      "  7.6029864e-03  7.3000900e-03 -3.5893326e-03  2.7367440e-03\n",
      " -8.3560841e-03  6.2081725e-03 -4.7327369e-03 -3.1871025e-03\n",
      "  9.2698922e-03  8.8169443e-04  7.4655334e-03 -6.1878585e-03\n",
      "  5.2442211e-03  9.9643553e-03 -8.5072685e-03 -5.2637034e-03\n",
      " -7.0643048e-03 -4.8079113e-03 -3.7087183e-03 -8.5770022e-03\n",
      "  7.8969505e-03 -4.8550661e-03  8.3468147e-03  5.2528456e-03\n",
      " -6.6521480e-03  3.9987029e-03  5.6285500e-03 -7.4983644e-03\n",
      " -7.3916367e-03 -2.6176963e-03 -8.6702202e-03 -1.6022434e-03\n",
      " -3.7900556e-04  3.3269450e-03  1.4398504e-03 -9.3563780e-04\n",
      " -5.5741505e-03  1.6836486e-03 -8.9551008e-04  6.8072877e-03\n",
      "  3.9817747e-03  4.4410243e-03  1.3389332e-03 -2.7407489e-03\n",
      " -4.2911377e-03 -1.0403800e-03  1.4434512e-03 -2.7472416e-03\n",
      " -7.0378166e-03 -7.8424942e-03 -9.1614081e-03 -5.8838250e-03\n",
      " -1.7543996e-03 -4.3562222e-03 -6.4929421e-03 -3.6479989e-03\n",
      "  4.3742172e-03 -3.8348441e-03  8.4878076e-03  1.5907958e-03\n",
      " -7.2581903e-03  9.5995981e-03  7.6070060e-03  5.5188169e-03\n",
      " -7.0289164e-03  5.9090997e-03  3.9473074e-03  5.2762176e-03\n",
      "  4.3423278e-03  1.8352210e-03 -3.0272950e-03  8.3508929e-03\n",
      "  9.6475324e-03  3.8687822e-03 -2.8714079e-03 -9.2003669e-05\n",
      "  1.1452592e-03 -8.4565608e-03 -8.3323829e-03 -1.2991416e-04\n",
      "  1.1786685e-03 -5.8478303e-03 -4.7096307e-03 -7.2909854e-03\n",
      "  8.3187791e-03  1.4483510e-04 -4.4147712e-03  5.6548868e-03\n",
      "  9.1958586e-03 -4.2144423e-03  8.0323536e-03  5.3267605e-03\n",
      "  5.9616491e-03  5.2619551e-04  8.2211047e-03 -7.0502968e-03]\n"
     ]
    }
   ],
   "source": [
    "cat_embedding = model.wv['cat']\n",
    "print(cat_embedding)"
   ],
   "metadata": {
    "collapsed": false,
    "ExecuteTime": {
     "end_time": "2024-09-22T18:55:08.962845Z",
     "start_time": "2024-09-22T18:55:08.943385Z"
    }
   },
   "id": "62b28027145d2942"
  },
  {
   "cell_type": "code",
   "execution_count": 9,
   "outputs": [
    {
     "data": {
      "text/plain": "(100,)"
     },
     "execution_count": 9,
     "metadata": {},
     "output_type": "execute_result"
    }
   ],
   "source": [
    "cat_embedding.shape"
   ],
   "metadata": {
    "collapsed": false,
    "ExecuteTime": {
     "end_time": "2024-09-22T18:55:08.963111Z",
     "start_time": "2024-09-22T18:55:08.946180Z"
    }
   },
   "id": "f2f50e2972f85fb0"
  },
  {
   "cell_type": "code",
   "execution_count": 10,
   "outputs": [
    {
     "data": {
      "text/plain": "[('evening', 0.21948054432868958),\n ('causing', 0.2074209600687027),\n ('up', 0.20682600140571594),\n ('and', 0.17605586349964142),\n ('explore', 0.17521333694458008),\n ('butterflies', 0.1726665049791336),\n ('lazily', 0.15613046288490295),\n ('dog', 0.1546085625886917),\n ('meanwhile', 0.15355412662029266),\n ('their', 0.13904985785484314)]"
     },
     "execution_count": 10,
     "metadata": {},
     "output_type": "execute_result"
    }
   ],
   "source": [
    "model.wv.most_similar('cat')"
   ],
   "metadata": {
    "collapsed": false,
    "ExecuteTime": {
     "end_time": "2024-09-22T18:55:08.963480Z",
     "start_time": "2024-09-22T18:55:08.948228Z"
    }
   },
   "id": "e3f1ea6db25a7b3a"
  },
  {
   "cell_type": "code",
   "execution_count": 17,
   "outputs": [],
   "source": [
    "from wordllama import WordLlama"
   ],
   "metadata": {
    "collapsed": false,
    "ExecuteTime": {
     "end_time": "2024-09-22T19:00:42.246146Z",
     "start_time": "2024-09-22T19:00:42.232315Z"
    }
   },
   "id": "5f23699618d0d16d"
  },
  {
   "cell_type": "code",
   "execution_count": 19,
   "outputs": [],
   "source": [
    "wl_model = WordLlama.load()"
   ],
   "metadata": {
    "collapsed": false,
    "ExecuteTime": {
     "end_time": "2024-09-22T19:01:14.057872Z",
     "start_time": "2024-09-22T19:01:13.928067Z"
    }
   },
   "id": "75df9e1bd21f4f44"
  },
  {
   "cell_type": "code",
   "execution_count": 21,
   "outputs": [
    {
     "data": {
      "text/plain": "0.1350919008255005"
     },
     "execution_count": 21,
     "metadata": {},
     "output_type": "execute_result"
    }
   ],
   "source": [
    "wl_model.similarity('cat','dog')"
   ],
   "metadata": {
    "collapsed": false,
    "ExecuteTime": {
     "end_time": "2024-09-22T19:01:35.088316Z",
     "start_time": "2024-09-22T19:01:35.057070Z"
    }
   },
   "id": "f352fedc1e7bbd9d"
  },
  {
   "cell_type": "code",
   "execution_count": 22,
   "outputs": [
    {
     "data": {
      "text/plain": "-0.026251081377267838"
     },
     "execution_count": 22,
     "metadata": {},
     "output_type": "execute_result"
    }
   ],
   "source": [
    "wl_model.similarity('cat','evening')"
   ],
   "metadata": {
    "collapsed": false,
    "ExecuteTime": {
     "end_time": "2024-09-22T19:01:49.879167Z",
     "start_time": "2024-09-22T19:01:49.869383Z"
    }
   },
   "id": "1961cfbbc8160e9b"
  },
  {
   "cell_type": "code",
   "execution_count": null,
   "outputs": [],
   "source": [],
   "metadata": {
    "collapsed": false
   },
   "id": "4cfbce3af7702162"
  }
 ],
 "metadata": {
  "kernelspec": {
   "display_name": "Python 3",
   "language": "python",
   "name": "python3"
  },
  "language_info": {
   "codemirror_mode": {
    "name": "ipython",
    "version": 2
   },
   "file_extension": ".py",
   "mimetype": "text/x-python",
   "name": "python",
   "nbconvert_exporter": "python",
   "pygments_lexer": "ipython2",
   "version": "2.7.6"
  }
 },
 "nbformat": 4,
 "nbformat_minor": 5
}
