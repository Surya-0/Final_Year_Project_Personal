{
 "cells": [
  {
   "cell_type": "code",
   "execution_count": 2,
   "outputs": [],
   "source": [
    "from wordllama import WordLlama"
   ],
   "metadata": {
    "collapsed": false,
    "ExecuteTime": {
     "end_time": "2024-09-18T17:16:22.898935Z",
     "start_time": "2024-09-18T17:16:22.571093Z"
    }
   },
   "id": "b52587622d1df945"
  },
  {
   "cell_type": "code",
   "execution_count": 3,
   "outputs": [
    {
     "name": "stderr",
     "output_type": "stream",
     "text": [
      "INFO:wordllama.wordllama:Downloading l2_supercat_tokenizer_config.json from https://huggingface.co/dleemiller/word-llama-l2-supercat/resolve/main/l2_supercat_tokenizer_config.json\n"
     ]
    }
   ],
   "source": [
    "# Load the default WordLlama model\n",
    "wl = WordLlama.load()"
   ],
   "metadata": {
    "collapsed": false,
    "ExecuteTime": {
     "end_time": "2024-09-18T17:16:36.202727Z",
     "start_time": "2024-09-18T17:16:30.750008Z"
    }
   },
   "id": "bbfada8ee0190f16"
  },
  {
   "cell_type": "code",
   "execution_count": 4,
   "outputs": [
    {
     "name": "stdout",
     "output_type": "stream",
     "text": [
      "0.06641247868537903\n"
     ]
    }
   ],
   "source": [
    "# Calculate similarity between two sentences\n",
    "similarity_score = wl.similarity(\"i went to the car\", \"i went to the pawn shop\")\n",
    "print(similarity_score)  # Output: 0.06641249096796882\n"
   ],
   "metadata": {
    "collapsed": false,
    "ExecuteTime": {
     "end_time": "2024-09-18T17:16:45.399715Z",
     "start_time": "2024-09-18T17:16:45.389767Z"
    }
   },
   "id": "e8c85922029028b0"
  },
  {
   "cell_type": "code",
   "execution_count": 5,
   "outputs": [
    {
     "name": "stdout",
     "output_type": "stream",
     "text": [
      "[('i went to the vehicle', 0.7441647052764893), ('i went to the truck', 0.28326916694641113), ('i went to the shop', 0.19732816517353058), ('i went to the park', 0.151014044880867)]\n"
     ]
    }
   ],
   "source": [
    "# Rank documents based on their similarity to a query\n",
    "query = \"i went to the car\"\n",
    "candidates = [\"i went to the park\", \"i went to the shop\", \"i went to the truck\", \"i went to the vehicle\"]\n",
    "ranked_docs = wl.rank(query, candidates)\n",
    "print(ranked_docs)\n",
    "# Output:\n",
    "# [\n",
    "#   ('i went to the vehicle', 0.7441646856486314),\n",
    "#   ('i went to the truck', 0.2832691551894259),\n",
    "#   ('i went to the shop', 0.19732814982305436),\n",
    "#   ('i went to the park', 0.15101404519322253)\n",
    "# ]"
   ],
   "metadata": {
    "collapsed": false,
    "ExecuteTime": {
     "end_time": "2024-09-18T17:17:25.334225Z",
     "start_time": "2024-09-18T17:17:25.323972Z"
    }
   },
   "id": "1f58a4d54390b862"
  },
  {
   "cell_type": "code",
   "execution_count": 12,
   "outputs": [
    {
     "name": "stdout",
     "output_type": "stream",
     "text": [
      "Tokens :  [Encoding(num_tokens=5, attributes=[ids, type_ids, tokens, offsets, attention_mask, special_tokens_mask, overflowing])]\n"
     ]
    }
   ],
   "source": [
    "sentence = \"I like tigers\"\n",
    "tokens = wl.tokenize(sentence)\n",
    "print(\"Tokens : \",tokens)"
   ],
   "metadata": {
    "collapsed": false,
    "ExecuteTime": {
     "end_time": "2024-09-18T17:27:27.143296Z",
     "start_time": "2024-09-18T17:27:27.136251Z"
    }
   },
   "id": "91d9537b6259008a"
  },
  {
   "cell_type": "code",
   "execution_count": 25,
   "outputs": [],
   "source": [
    "w1 = WordLlama.load(dim = 64)\n",
    "embeddings = wl.embed([\"the quick brown fox jumps over the lazy dog\"])"
   ],
   "metadata": {
    "collapsed": false,
    "ExecuteTime": {
     "end_time": "2024-09-18T17:33:12.118580Z",
     "start_time": "2024-09-18T17:33:12.056471Z"
    }
   },
   "id": "9b3fe570862170b4"
  },
  {
   "cell_type": "code",
   "execution_count": 26,
   "outputs": [
    {
     "data": {
      "text/plain": "array([[ 0.12470592, -0.07770053,  0.02884188,  0.21934648,  0.18028675,\n        -0.12956376, -0.04828436,  0.41509733,  0.07201316,  0.13917126,\n         0.0855602 ,  0.12068315,  0.12699752,  0.11927379,  0.00974343,\n        -0.564209  , -0.1578487 ,  0.03860474, -0.07334492, -0.26644066,\n        -0.5641868 , -0.32762977, -0.38049594,  0.21294056,  0.08007257,\n         0.16110507, -0.00196422,  0.3599271 ,  0.0900435 ,  0.17322887,\n         0.29006264, -0.29262888,  0.41510564,  0.15712148, -0.02885853,\n        -0.11202171,  0.06890869, -0.03536294, -0.06598455,  0.24811624,\n        -0.20313574, -0.30398142,  0.07795299, -0.42450505,  0.10664229,\n         0.7530911 ,  0.02276056,  0.12312213, -0.3221824 ,  0.15558554,\n         0.29816782, -0.02808033, -0.05978116,  0.20450106, -0.4262626 ,\n        -0.14082475,  0.22328836, -0.3291959 , -0.18767756, -0.29354027,\n        -0.5189202 , -0.4972867 , -0.12053888,  0.11252386,  0.37966537,\n         0.06360973,  0.01867121,  0.21732955, -0.39893687,  0.26796237,\n         0.09808905,  0.25978783, -0.15599476,  0.14596003, -0.04862647,\n        -0.22363836,  0.07302024, -0.03244157,  0.0918912 , -0.10135026,\n        -0.12124911, -0.10852051, -0.13210227,  0.19558993,  0.25129282,\n        -0.18470348, -0.16397928,  0.11701588, -0.18841499, -0.2556291 ,\n        -0.24492298, -0.11049583, -0.17598933, -0.63474345,  0.11593211,\n         0.20251465,  0.31690007, -0.18731135, -0.39303312,  0.03940929,\n         0.05885384, -0.07780873, -0.09028487, -0.39690053, -0.00152033,\n        -0.12949996,  0.20372425, -0.09125865, -0.07005033, -0.05027632,\n         0.21303211, -0.05031516,  0.11172208, -0.26428223,  0.18163681,\n        -0.18314986, -0.0664274 , -0.08056593,  0.29641724, -0.2249631 ,\n        -0.12847346,  0.1861073 ,  0.1784224 , -0.20789823,  0.3919714 ,\n        -0.01156339, -0.07397461,  0.11803228,  0.36029053, -0.1359683 ,\n        -0.2566022 ,  0.07364862, -0.2049616 , -0.23630315, -0.15887763,\n        -0.03775891, -0.60336167, -0.22333318,  0.06940114,  0.20417093,\n         0.02271063, -0.29003352, -0.31609553, -0.2742809 , -0.1886125 ,\n         0.01975874,  0.1460072 ,  0.03022905, -0.30294523, -0.00695801,\n         0.04454179,  0.04566609, -0.04094735,  0.07556291,  0.09953863,\n         0.01549842, -0.03300892,  0.01477883, -0.11453524,  0.38575885,\n         0.20612127,  0.04058838, -0.02084073,  0.12100636,  0.04631875,\n        -0.4596835 , -0.12918368,  0.0933935 ,  0.00744351, -0.1395985 ,\n        -0.35909757, -0.49429876,  0.19655262,  0.05232377,  0.1015521 ,\n        -0.03492875, -0.1147128 , -0.0022042 ,  0.3891879 ,  0.0613549 ,\n         0.07294187,  0.38040993, -0.14135188, -0.71638626, -0.15086989,\n        -0.03170499,  0.20356517,  0.01392711, -0.09627533, -0.11917391,\n        -0.12994385, -0.29707476,  0.168916  , -0.31402034, -0.03554743,\n         0.36131704, -0.0547305 , -0.08199796,  0.04962713,  0.05812766,\n         0.10431463, -0.19736551,  0.05404663,  0.23143421,  0.45016757,\n         0.12926136, -0.09164984, -0.07488459,  0.10027383,  0.05425193,\n        -0.00681097, -0.15120688, -0.09306752, -0.3146307 ,  0.16747493,\n         0.08745506,  0.11531483, -0.10643422,  0.3224959 ,  0.35251132,\n         0.08725808,  0.39678538,  0.20695357,  0.12936713,  0.14618474,\n         0.37677556,  0.22837137, -0.15774259,  0.30187988, -0.31389132,\n         0.10922518, -0.27945778, -0.26754484, -0.39728528,  0.11088423,\n         0.0815069 , -0.10926957, -0.20148087, -0.11089533, -0.25646973,\n         0.14915466, -0.1782504 , -0.19422497,  0.01795543, -0.4674752 ,\n        -0.33385327, -0.09153609, -0.25652522,  0.42913958, -0.20297796,\n         0.24771118, -0.13008708,  0.511974  ,  0.07592773, -0.07628285,\n        -0.11997847]], dtype=float32)"
     },
     "execution_count": 26,
     "metadata": {},
     "output_type": "execute_result"
    }
   ],
   "source": [
    "embeddings"
   ],
   "metadata": {
    "collapsed": false,
    "ExecuteTime": {
     "end_time": "2024-09-18T17:33:12.590342Z",
     "start_time": "2024-09-18T17:33:12.585717Z"
    }
   },
   "id": "5a062a7381ac55a3"
  },
  {
   "cell_type": "code",
   "execution_count": null,
   "outputs": [],
   "source": [],
   "metadata": {
    "collapsed": false
   },
   "id": "bcdd9713ae8097fa"
  }
 ],
 "metadata": {
  "kernelspec": {
   "display_name": "Python 3",
   "language": "python",
   "name": "python3"
  },
  "language_info": {
   "codemirror_mode": {
    "name": "ipython",
    "version": 2
   },
   "file_extension": ".py",
   "mimetype": "text/x-python",
   "name": "python",
   "nbconvert_exporter": "python",
   "pygments_lexer": "ipython2",
   "version": "2.7.6"
  }
 },
 "nbformat": 4,
 "nbformat_minor": 5
}
